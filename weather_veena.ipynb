{
  "nbformat": 4,
  "nbformat_minor": 0,
  "metadata": {
    "colab": {
      "name": "weather veena",
      "provenance": []
    },
    "kernelspec": {
      "name": "python3",
      "display_name": "Python 3"
    },
    "language_info": {
      "name": "python"
    }
  },
  "cells": [
    {
      "cell_type": "code",
      "metadata": {
        "id": "Glucvvp3pShK"
      },
      "source": [
        "import requests\n",
        "from datetime import datetime"
      ],
      "execution_count": 1,
      "outputs": []
    },
    {
      "cell_type": "code",
      "metadata": {
        "colab": {
          "base_uri": "https://localhost:8080/"
        },
        "id": "9pkXnEvNpkNd",
        "outputId": "477304b6-1799-477e-db86-7840d02e4eb8"
      },
      "source": [
        "api_key = '7ba557793cf401f66bf9e0cb09fd40db'\n",
        "location = input(\"Enter the city name: \")\n",
        "complete_api_link = \"https://api.openweathermap.org/data/2.5/weather?q=\"+location+\"&appid=\"+api_key\n",
        "api_link = requests.get(complete_api_link)\n",
        "api_data = api_link.json()\n",
        "temp_city = ((api_data['main']['temp']) - 273.15)\n",
        "weather_desc = api_data['weather'][0]['description']\n",
        "hmdt = api_data['main']['humidity']\n",
        "wind_spd = api_data['wind']['speed']\n",
        "date_time = datetime.now().strftime(\"%d %b %Y| %I:%M:%S %p\")"
      ],
      "execution_count": 3,
      "outputs": [
        {
          "output_type": "stream",
          "text": [
            "Enter the city name: kerala\n"
          ],
          "name": "stdout"
        }
      ]
    },
    {
      "cell_type": "code",
      "metadata": {
        "colab": {
          "base_uri": "https://localhost:8080/"
        },
        "id": "muJxYSWMpvNj",
        "outputId": "8d3842ab-dfec-4a2f-de29-571c3a643802"
      },
      "source": [
        "print (\"-----------------------------------------------------------------\")\n",
        "print (\"Weather Stats for - {} || {} \".format(location.upper(), date_time))\n",
        "print (\"-----------------------------------------------------------------\")\n",
        "print (\"Current temperature is: {:.2f} deg C\".format(temp_city))\n",
        "print (\"Curretn weather desc :\",weather_desc)\n",
        "print (\"Current Humidity     :\",hmdt, '%')\n",
        "print (\"Current wind speed   :\",wind_spd,'kmph')\n"
      ],
      "execution_count": 4,
      "outputs": [
        {
          "output_type": "stream",
          "text": [
            "-----------------------------------------------------------------\n",
            "Weather Stats for - KERALA || 23 Jun 2021| 06:55:20 AM \n",
            "-----------------------------------------------------------------\n",
            "Current temperature is: 30.82 deg C\n",
            "Curretn weather desc : overcast clouds\n",
            "Current Humidity     : 74 %\n",
            "Current wind speed   : 2.26 kmph\n"
          ],
          "name": "stdout"
        }
      ]
    },
    {
      "cell_type": "code",
      "metadata": {
        "id": "0Wha1SaCp_II"
      },
      "source": [
        "with open('weather.txt','w')as out:\n",
        "  out.write('Current temperature is: {:.2f} deg C'.format(temp_city));\n",
        "  out.write('Curretn weather desc :{}'.format(weather_desc));\n",
        "  out.write('Current Humidity     :{}'.format(hmdt));\n",
        "  out.write('%');\n",
        "  out.write('Current wind speed   :{}'.format(wind_spd));\n",
        "  out.write('kmph');\n"
      ],
      "execution_count": 7,
      "outputs": []
    }
  ]
}